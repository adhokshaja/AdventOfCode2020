{
 "cells": [
  {
   "cell_type": "code",
   "execution_count": 11,
   "metadata": {},
   "outputs": [
    {
     "output_type": "execute_result",
     "data": {
      "text/plain": "31"
     },
     "metadata": {},
     "execution_count": 11
    }
   ],
   "source": [
    "with open('input.txt') as infile:\n",
    "    inputMap = [line.strip() for line in infile.readlines()]"
   ]
  },
  {
   "cell_type": "code",
   "execution_count": 17,
   "metadata": {},
   "outputs": [],
   "source": [
    "def GetTreeCountForSlope(right,down):\n",
    "    count = 0\n",
    "    row = 0\n",
    "    col = 0\n",
    "    while row < len(inputMap):\n",
    "        colLen = len(inputMap[row])\n",
    "        if inputMap[row][col % colLen] == \"#\":\n",
    "            count +=1\n",
    "        row+=down\n",
    "        col+=right\n",
    "    return count"
   ]
  },
  {
   "cell_type": "markdown",
   "metadata": {},
   "source": [
    "# Part 1"
   ]
  },
  {
   "cell_type": "code",
   "execution_count": 18,
   "metadata": {},
   "outputs": [
    {
     "output_type": "execute_result",
     "data": {
      "text/plain": "244"
     },
     "metadata": {},
     "execution_count": 18
    }
   ],
   "source": [
    "GetTreeCountForSlope(3,1)"
   ]
  },
  {
   "cell_type": "markdown",
   "metadata": {},
   "source": [
    "# Part 2"
   ]
  },
  {
   "cell_type": "code",
   "execution_count": 19,
   "metadata": {},
   "outputs": [
    {
     "output_type": "execute_result",
     "data": {
      "text/plain": "9406609920"
     },
     "metadata": {},
     "execution_count": 19
    }
   ],
   "source": [
    "GetTreeCountForSlope(1,1) * GetTreeCountForSlope(3,1) * GetTreeCountForSlope(5,1) * GetTreeCountForSlope(7,1) * GetTreeCountForSlope(1,2)\n"
   ]
  }
 ],
 "metadata": {
  "kernelspec": {
   "display_name": "Python 3.6.6 64-bit",
   "language": "python",
   "name": "python36664bit9645812e406f4dd4a57b9b4e78b0c677"
  },
  "language_info": {
   "name": "",
   "version": "3.6.6-final"
  }
 },
 "nbformat": 4,
 "nbformat_minor": 4
}