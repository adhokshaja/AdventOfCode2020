{
 "metadata": {
  "language_info": {
   "codemirror_mode": {
    "name": "ipython",
    "version": 3
   },
   "file_extension": ".py",
   "mimetype": "text/x-python",
   "name": "python",
   "nbconvert_exporter": "python",
   "pygments_lexer": "ipython3",
   "version": "3.7.3-final"
  },
  "orig_nbformat": 2,
  "kernelspec": {
   "name": "javascript",
   "display_name": "Javascript (Node.js)"
  }
 },
 "nbformat": 4,
 "nbformat_minor": 2,
 "cells": [
  {
   "source": [
    "# Day 9\n",
    "## Encoding Error"
   ],
   "cell_type": "markdown",
   "metadata": {}
  },
  {
   "cell_type": "code",
   "execution_count": 1,
   "metadata": {},
   "outputs": [],
   "source": [
    "const fs = require(\"fs\");\n",
    "\n",
    "const input = fs\n",
    "  .readFileSync(\"./input.txt\", (_, a) => a)\n",
    "  .toString()\n",
    "  .split(\"\\r\\n\")\n",
    "  .map((a) => parseInt(a));\n",
    "\n",
    "\n",
    "const PREAMBLE_LENGTH = 25"
   ]
  },
  {
   "source": [
    "### Define function to see if array has two numbers to add up to a required number"
   ],
   "cell_type": "markdown",
   "metadata": {}
  },
  {
   "cell_type": "code",
   "execution_count": 2,
   "metadata": {},
   "outputs": [],
   "source": [
    "const doesHaveSum = (arr, sum) => {\n",
    "  for (let i = 0; i < arr.length; i++) {\n",
    "    for (let j = i; j < arr.length; j++) {\n",
    "      if (arr[i] + arr[j] == sum) {\n",
    "        return true;\n",
    "      }\n",
    "    }\n",
    "  }\n",
    "  return false;\n",
    "};"
   ]
  },
  {
   "source": [
    "## Part 1\n",
    "Find first number that doesn't have a sum in the previous 25 elements"
   ],
   "cell_type": "markdown",
   "metadata": {}
  },
  {
   "cell_type": "code",
   "execution_count": 3,
   "metadata": {},
   "outputs": [],
   "source": [
    "const part1 = ([...numbers], preambleLength = PREAMBLE_LENGTH) => {\n",
    "  var len = numbers.length;\n",
    "  for (let i = preambleLength; i < len; i++) {\n",
    "    var subset = numbers.slice(i - preambleLength, i);\n",
    "    var reqdSum = numbers[i];\n",
    "    if (!doesHaveSum(subset, reqdSum)) {\n",
    "      return { reqdSum, i, subset };\n",
    "    }\n",
    "  }\n",
    "  return null;\n",
    "};"
   ]
  },
  {
   "cell_type": "code",
   "execution_count": 4,
   "metadata": {},
   "outputs": [
    {
     "output_type": "execute_result",
     "data": {
      "text/plain": [
       "2089807806"
      ]
     },
     "metadata": {},
     "execution_count": 4
    }
   ],
   "source": [
    "part1(input, PREAMBLE_LENGTH).reqdSum"
   ]
  },
  {
   "source": [
    "## Part 2\n",
    "Use part 1 to find a contiguous set of numbers that add up to the required sum and return the sum of the highest and lowest numbers in the set"
   ],
   "cell_type": "markdown",
   "metadata": {}
  },
  {
   "cell_type": "code",
   "execution_count": 5,
   "metadata": {},
   "outputs": [],
   "source": [
    "const part2 = ([...numbers], preambleLength = 25) => {\n",
    "  const { reqdSum } = part1([...numbers], preambleLength);\n",
    "\n",
    "  for (let i = 0; i < numbers.length - 2; i++) {\n",
    "    for (let j = i + 2; j < numbers.length; j++) {\n",
    "      const subset = [...numbers].slice(i, j);\n",
    "      if (subset.reduce((a, b) => a + b, 0) == reqdSum) {\n",
    "        return {\n",
    "          subset,\n",
    "          min: Math.min(...subset),\n",
    "          max: Math.max(...subset),\n",
    "          sum: Math.min(...subset) + Math.max(...subset),\n",
    "        };\n",
    "      }\n",
    "    }\n",
    "  }\n",
    "  return null;\n",
    "};"
   ]
  },
  {
   "cell_type": "code",
   "execution_count": 6,
   "metadata": {},
   "outputs": [
    {
     "output_type": "execute_result",
     "data": {
      "text/plain": [
       "245848639"
      ]
     },
     "metadata": {},
     "execution_count": 6
    }
   ],
   "source": [
    "part2(input, PREAMBLE_LENGTH).sum"
   ]
  }
 ]
}