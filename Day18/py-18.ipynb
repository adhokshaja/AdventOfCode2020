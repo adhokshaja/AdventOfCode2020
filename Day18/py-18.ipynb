{
 "metadata": {
  "language_info": {
   "codemirror_mode": {
    "name": "ipython",
    "version": 3
   },
   "file_extension": ".py",
   "mimetype": "text/x-python",
   "name": "python",
   "nbconvert_exporter": "python",
   "pygments_lexer": "ipython3",
   "version": "3.7.3-final"
  },
  "orig_nbformat": 2,
  "kernelspec": {
   "name": "python3",
   "display_name": "Python 3",
   "language": "python"
  }
 },
 "nbformat": 4,
 "nbformat_minor": 2,
 "cells": [
  {
   "cell_type": "code",
   "execution_count": 446,
   "metadata": {},
   "outputs": [],
   "source": [
    "with open('input.txt') as infile:\n",
    "    inputLines = [line.strip() for line in infile.readlines()]"
   ]
  },
  {
   "cell_type": "code",
   "execution_count": 495,
   "metadata": {},
   "outputs": [],
   "source": [
    "import re\n",
    "parens_match = r'\\(([0-9]|\\*|\\+|\\s)*\\)'\n",
    "\n",
    "\n",
    "def parseStringAsExprTree (strExpr):\n",
    "    reducedExprStr = strExpr\n",
    "   # if any brackets eval those as individual expr trees \n",
    "    match = re.search(parens_match, reducedExprStr)\n",
    "    while(match):\n",
    "        innerExpr = match.group()[1:-1]\n",
    "        innerExprEval = parseStringAsExprTree(innerExpr)\n",
    "        range = match.span()\n",
    "        reducedExprStr = reducedExprStr[0:range[0]] +str(innerExprEval)+ reducedExprStr[range[1]:]\n",
    "        match = re.search(parens_match, reducedExprStr)\n",
    "\n",
    "    ops = reducedExprStr.split(' ')\n",
    "    currStack = []\n",
    "    exprStack = []\n",
    "    i = 0\n",
    "    while i < len(ops):\n",
    "        op = ops[i]\n",
    "        i+=1\n",
    "        if(op.isnumeric()):\n",
    "            opExpr = int(op)\n",
    "            if len(exprStack) == 0:\n",
    "                currStack.append(opExpr)\n",
    "            else: \n",
    "                l = currStack.pop()\n",
    "                r = opExpr\n",
    "                expr = exprStack.pop()\n",
    "                if expr == '+':\n",
    "                    currStack.append(l+r)\n",
    "                elif expr == '*':\n",
    "                    currStack.append(l*r)\n",
    "        elif(op == \" \"):\n",
    "            continue\n",
    "        \n",
    "        else:\n",
    "            exprStack.append(op)\n",
    "\n",
    "    finalExpr = currStack.pop()\n",
    "    return finalExpr"
   ]
  },
  {
   "cell_type": "code",
   "execution_count": 496,
   "metadata": {},
   "outputs": [],
   "source": [
    "evaluatedInput = [parseStringAsExprTree(line) for line in inputLines]"
   ]
  },
  {
   "source": [
    "sum(evaluatedInput)"
   ],
   "cell_type": "code",
   "metadata": {},
   "execution_count": 497,
   "outputs": [
    {
     "output_type": "execute_result",
     "data": {
      "text/plain": [
       "31142189909908"
      ]
     },
     "metadata": {},
     "execution_count": 497
    }
   ]
  },
  {
   "cell_type": "code",
   "execution_count": 498,
   "metadata": {},
   "outputs": [],
   "source": [
    "parens_match = r'\\(([0-9]|\\*|\\+|\\s)*\\)'\n",
    "\n",
    "\n",
    "def parseStringAsExprTree_Advanced (strExpr):\n",
    "    reducedExprStr = strExpr\n",
    "   # if any brackets eval those as individual expr trees \n",
    "    match = re.search(parens_match, reducedExprStr)\n",
    "    while(match):\n",
    "        innerExpr = match.group()[1:-1]\n",
    "        innerExprEval = parseStringAsExprTree_Advanced(innerExpr)\n",
    "        range = match.span()\n",
    "        reducedExprStr = reducedExprStr[0:range[0]] +str(innerExprEval)+ reducedExprStr[range[1]:]\n",
    "        match = re.search(parens_match, reducedExprStr)\n",
    "\n",
    "    ops = reducedExprStr.split(' ')\n",
    "    currStack = []\n",
    "    exprStack = []\n",
    "    i = 0\n",
    "    while i < len(ops):\n",
    "        op = ops[i]\n",
    "        i+=1\n",
    "        if(op.isnumeric()):\n",
    "            opExpr = int(op)\n",
    "            if len(exprStack) == 0:\n",
    "                currStack.append(opExpr)\n",
    "            else: \n",
    "                expr = exprStack.pop()\n",
    "                if expr == '+':\n",
    "                    l = currStack.pop()\n",
    "                    currStack.append(l+opExpr)\n",
    "                elif expr == '*':\n",
    "                    #  add opExpr to stack\n",
    "                    currStack.append(opExpr)\n",
    "        elif(op == \" \"):\n",
    "            continue\n",
    "        \n",
    "        else:\n",
    "            exprStack.append(op)\n",
    "\n",
    "    # only multiply opetions remain in curr stack\n",
    "    finalExpr = 1\n",
    "    for i in currStack:\n",
    "        finalExpr = finalExpr * i\n",
    "\n",
    "    return finalExpr"
   ]
  },
  {
   "cell_type": "code",
   "execution_count": 499,
   "metadata": {},
   "outputs": [],
   "source": [
    "evaluatedInput_p2 = [parseStringAsExprTree_Advanced(line) for line in inputLines]"
   ]
  },
  {
   "cell_type": "code",
   "execution_count": 500,
   "metadata": {},
   "outputs": [
    {
     "output_type": "execute_result",
     "data": {
      "text/plain": [
       "323912478287549"
      ]
     },
     "metadata": {},
     "execution_count": 500
    }
   ],
   "source": [
    "sum(evaluatedInput_p2)"
   ]
  }
 ]
}