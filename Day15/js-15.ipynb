{
 "metadata": {
  "language_info": {
   "codemirror_mode": {
    "name": "ipython",
    "version": 3
   },
   "file_extension": ".py",
   "mimetype": "text/x-python",
   "name": "python",
   "nbconvert_exporter": "python",
   "pygments_lexer": "ipython3",
   "version": 3
  },
  "orig_nbformat": 2,
  "kernelspec": {
   "name": "javascript",
   "display_name": "Javascript (Node.js)",
   "language": "javascript"
  }
 },
 "nbformat": 4,
 "nbformat_minor": 2,
 "cells": [
  {
   "source": [
    "# Rambunctious Recitation\n"
   ],
   "cell_type": "markdown",
   "metadata": {}
  },
  {
   "cell_type": "code",
   "execution_count": 1,
   "metadata": {},
   "outputs": [],
   "source": [
    "\n",
    "const fs = require(\"fs\");\n",
    "const input = fs\n",
    "  .readFileSync(\"./input.txt\", (_, a) => a)\n",
    "  .toString()\n",
    "  .split(\"\\r\\n\")\n",
    "  .map((a) => a.split(','))[0].map(a=>a >>>0);"
   ]
  },
  {
   "source": [
    "## Approach & Solution\n",
    "\n",
    "The aproach here is similar to the hashmap method used in the [NodeJS](./js-15.js) version of this solution. the hash map has been refactored to only use `beforeLast` as the value instead of the object with `last` and `beforeLast`.\n",
    "The hashmap function has been converted to a generator function that will return a potentially infinite sequence."
   ],
   "cell_type": "markdown",
   "metadata": {}
  },
  {
   "cell_type": "code",
   "execution_count": 2,
   "metadata": {},
   "outputs": [],
   "source": [
    "function* memoryGame ([...seed]) {\n",
    "  let lastTurn = 0;\n",
    "  let lastSpoken = null;\n",
    "\n",
    "  // key = numberspoken; value = index beforelast\n",
    "  const spoken = new Map();\n",
    "\n",
    "// yeild the seed numbers first\n",
    "  for (let s of seed) {\n",
    "    lastTurn += 1;\n",
    "    spoken.set(s, lastTurn);\n",
    "    lastSpoken = s;\n",
    "    yield s;\n",
    "  }\n",
    "\n",
    "\n",
    "  while(true) {\n",
    "     \n",
    "      //Get current\n",
    "      let currSpoken = null;\n",
    "      if (!spoken.has(lastSpoken)) {\n",
    "        currSpoken = 0;\n",
    "      } else {\n",
    "        // lastSpoken is always on index lastTurn;\n",
    "        currSpoken = lastTurn - spoken.get(lastSpoken);\n",
    "      }\n",
    "\n",
    "      // add last spoken to map\n",
    "      spoken.set(lastSpoken, lastTurn);\n",
    " \n",
    "      // \"speak\" current\n",
    "      lastSpoken = currSpoken;\n",
    "      lastTurn += 1;\n",
    "      yield currSpoken;\n",
    "  }\n",
    "\n",
    "}\n"
   ]
  },
  {
   "cell_type": "code",
   "execution_count": 3,
   "metadata": {},
   "outputs": [],
   "source": [
    "const PART1_TURNS = 2020;\n",
    "const PART2_TURNS = 30000000;"
   ]
  },
  {
   "cell_type": "code",
   "execution_count": 4,
   "metadata": {},
   "outputs": [
    {
     "output_type": "stream",
     "name": "stdout",
     "text": [
      "Part 1 468\n",
      "Part 2 1801753\n"
     ]
    },
    {
     "output_type": "execute_result",
     "data": {
      "text/plain": [
       "30000001"
      ]
     },
     "metadata": {},
     "execution_count": 4
    }
   ],
   "source": [
    "\n",
    "const memoryGameFromSeed = memoryGame(input); //iniitalize generator\n",
    "const maxTurns = Math.max(PART1_TURNS,PART2_TURNS); // exit condition for the loop\n",
    "\n",
    "let turn = 1; // current turn\n",
    "while (turn <= maxTurns) {\n",
    "  const currVal = memoryGameFromSeed.next().value;\n",
    "  if(turn === PART1_TURNS){\n",
    "    console.log(\"Part 1\",currVal);\n",
    "  }\n",
    "  if (turn === PART2_TURNS) {\n",
    "    console.log(\"Part 2\", currVal);\n",
    "  }\n",
    "  turn += 1;\n",
    "}"
   ]
  }
 ]
}