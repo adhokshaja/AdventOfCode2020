{
 "metadata": {
  "language_info": {
   "codemirror_mode": {
    "name": "ipython",
    "version": 3
   },
   "file_extension": ".py",
   "mimetype": "text/x-python",
   "name": "python",
   "nbconvert_exporter": "python",
   "pygments_lexer": "ipython3",
   "version": 3
  },
  "orig_nbformat": 2,
  "kernelspec": {
   "name": "javascript",
   "display_name": "Javascript (Node.js)",
   "language": "javascript"
  }
 },
 "nbformat": 4,
 "nbformat_minor": 2,
 "cells": [
  {
   "source": [
    "#  Shuttle Search "
   ],
   "cell_type": "markdown",
   "metadata": {}
  },
  {
   "cell_type": "code",
   "execution_count": 1,
   "metadata": {},
   "outputs": [],
   "source": [
    "const input = fs\n",
    "  .readFileSync(\"./input.txt\", (_, a) => a)\n",
    "  .toString()\n",
    "  .split(\"\\r\\n\")\n",
    "  .map(a=> a);\n"
   ]
  },
  {
   "source": [
    "# Part 1\n",
    "\n",
    "What is the ID of the earliest shuttle you can take to the airport multiplied by the number of minutes you'll need to wait for that bus?\n",
    "\n",
    "## Approach & Solution\n",
    "Earliest time you can take a shuttle at an integer multiple of that shuttle's ID after you have arrived. Which translates to the ceiling of the division of the arrival time by shuttle's Id.\n",
    "Or in mathamatical terms : \n",
    "###  $ t_{Shuttle} = ceil( \\frac {Time_{arrival}} {Frequency_{Shuttle}}) = ceil(\\frac {Time_{arr}} {ShuttleID} )$\n"
   ],
   "cell_type": "markdown",
   "metadata": {}
  },
  {
   "cell_type": "code",
   "execution_count": 2,
   "metadata": {},
   "outputs": [
    {
     "output_type": "execute_result",
     "data": {
      "text/plain": [
       "3997"
      ]
     },
     "metadata": {},
     "execution_count": 2
    }
   ],
   "source": [
    "const arrival = parseInt(input[0]);\n",
    "const shuttleIds = input[1].split(',').filter(a =>a !='x').map(a=>parseInt(a));\n",
    "\n",
    "const timeDiff = shuttleIds.map( a => {\n",
    "    const match = Math.ceil(arrival/a); // Need Integer, Cannot take a shuttle that has already left; Hence Ceiling of the division\n",
    "        return {\n",
    "            id:a,\n",
    "            timeDiff: (match*a)-arrival\n",
    "        }\n",
    "    }\n",
    ").sort((a,b)=> a.timeDiff-b.timeDiff);\n",
    "\n",
    "timeDiff[0].id * timeDiff[0].timeDiff;"
   ]
  },
  {
   "source": [
    "# Part 2\n",
    "Use line two of input (shuttle ID) only. Find a time such that if the first shuttle leaves at time t= 0. The following shuttles leave at t+1, t+2, t+3... t+n. A shuttle X can leave at any time. "
   ],
   "cell_type": "markdown",
   "metadata": {}
  },
  {
   "source": [
    "## Approach\n",
    "Compute the time delay $t_i$ required for each shuttle $s_i$ after the first one. The first one leaves at time t=0. $\\therefore$ $t_0 = 0$\n"
   ],
   "cell_type": "markdown",
   "metadata": {}
  },
  {
   "cell_type": "code",
   "execution_count": 3,
   "metadata": {},
   "outputs": [
    {
     "output_type": "execute_result",
     "data": {
      "text/plain": [
       "[\n",
       "  { shuttle: 19, delay: 0 },\n",
       "  { shuttle: 41, delay: 9 },\n",
       "  { shuttle: 37, delay: 13 },\n",
       "  { shuttle: 787, delay: 19 },\n",
       "  { shuttle: 13, delay: 32 },\n",
       "  { shuttle: 23, delay: 42 },\n",
       "  { shuttle: 29, delay: 48 },\n",
       "  { shuttle: 571, delay: 50 },\n",
       "  { shuttle: 17, delay: 67 }\n",
       "]"
      ]
     },
     "metadata": {},
     "execution_count": 3
    }
   ],
   "source": [
    "var shuttles = input[1].split(\",\");\n",
    "var subsequentShuttles = [];\n",
    "\n",
    "var currentShuttle = null;\n",
    "var currentTimeDiff = 0;\n",
    "\n",
    "for (let shuttle of shuttles) {\n",
    "    if (!isNaN(shuttle)) {\n",
    "        currentShuttle = parseInt(shuttle);\n",
    "        subsequentShuttles.push({\n",
    "            shuttle: parseInt(currentShuttle),\n",
    "            delay: currentTimeDiff,\n",
    "        });\n",
    "    }\n",
    "    currentTimeDiff += 1;\n",
    "}\n",
    "\n",
    "subsequentShuttles"
   ]
  },
  {
   "source": [
    "\n",
    "The problem now is \n",
    "\n",
    "For $K$ shuttles we have to find $t$ $\\backepsilon$ \n",
    "\n",
    "$ \\quad (t + t_0) \\mod s_0   \\\\\n",
    "=   (t + t_1) \\mod s_1  \\\\\n",
    " =   (t + t_2) \\mod s_2  \\\\\n",
    "  \\vdots \\\\\n",
    "  = (t + t_k) \\mod s_k \\\\\n",
    "  = 0\n",
    "  $\n",
    "\n",
    "Which is the equivalant to saying \n",
    "\n",
    "$ t \\equiv -t_0\\;(mod\\;s_0) \\equiv (s_0-t_0)\\:(mod\\;s_0) \\\\\n",
    "  \\: \\equiv -t_1\\;(mod\\;s_1) \\equiv (s_1-t_1)\\:(mod\\;s_1) \\\\\n",
    "  \\: \\equiv -t_2\\;(mod\\;s_2) \\equiv (s_2-t_2)\\:(mod\\;s_2) \\\\\n",
    "  \\: \\vdots \\\\\n",
    "  \\: \\equiv -t_k\\;(mod\\;s_k) \\equiv (s_k-t_k)\\:(mod\\;s_k) \\\\\n",
    " $\n",
    "\n",
    "Modify the subsequent Shuttles array to return lag times. Where lagtime of $k^{th}$ shuttle is $lagtime_k = (s_k - (delay_k\\:mod\\;s_k))\\:mod\\;s_k$\n"
   ],
   "cell_type": "markdown",
   "metadata": {}
  },
  {
   "cell_type": "code",
   "execution_count": 4,
   "metadata": {},
   "outputs": [
    {
     "output_type": "execute_result",
     "data": {
      "text/plain": [
       "[\n",
       "  { shuttle: 19, delay: 0, lag_time: 0 },\n",
       "  { shuttle: 41, delay: 9, lag_time: 32 },\n",
       "  { shuttle: 37, delay: 13, lag_time: 24 },\n",
       "  { shuttle: 787, delay: 19, lag_time: 768 },\n",
       "  { shuttle: 13, delay: 32, lag_time: 7 },\n",
       "  { shuttle: 23, delay: 42, lag_time: 4 },\n",
       "  { shuttle: 29, delay: 48, lag_time: 10 },\n",
       "  { shuttle: 571, delay: 50, lag_time: 521 },\n",
       "  { shuttle: 17, delay: 67, lag_time: 1 }\n",
       "]"
      ]
     },
     "metadata": {},
     "execution_count": 4
    }
   ],
   "source": [
    "subsequentShuttles = subsequentShuttles.map(s => {\n",
    "    return {\n",
    "        ...s,\n",
    "        lag_time: (s.shuttle - (s.delay % s.shuttle)) % s.shuttle\n",
    "    }\n",
    "});\n",
    "\n",
    "subsequentShuttles"
   ]
  },
  {
   "cell_type": "code",
   "execution_count": 5,
   "metadata": {},
   "outputs": [
    {
     "output_type": "stream",
     "name": "stdout",
     "text": [
      "The answer \"t\" is the solution to the simultaneous congrugencies : \nt ≡ 0 (mod 19)\nt ≡ 32 (mod 41)\nt ≡ 24 (mod 37)\nt ≡ 768 (mod 787)\nt ≡ 7 (mod 13)\nt ≡ 4 (mod 23)\nt ≡ 10 (mod 29)\nt ≡ 521 (mod 571)\nt ≡ 1 (mod 17)\n"
     ]
    }
   ],
   "source": [
    "console.log(`The answer \"t\" is the solution to the simultaneous congrugencies : \\n${subsequentShuttles.map(a => `t ≡ ${a.lag_time} (mod ${a.shuttle})`).join(\"\\n\")}`);"
   ]
  },
  {
   "source": [
    "The solution to the simultaneous congrugencies can be found using the [Chinese Reminder theorem](https://en.wikipedia.org/wiki/Chinese_remainder_theorem).\n",
    "The search for the first $t$ that satisfies the above congrugencies is done here using [sieving](https://en.wikipedia.org/wiki/Chinese_remainder_theorem#Search_by_sieving).\n",
    "\n",
    "Alternatively this can be solved using [Extended Euclidean algorithm](https://en.wikipedia.org/wiki/Extended_Euclidean_algorithm). An implementation of which is in the [Julia solution](./jl-13.jl)"
   ],
   "cell_type": "markdown",
   "metadata": {}
  },
  {
   "cell_type": "code",
   "execution_count": 6,
   "metadata": {},
   "outputs": [],
   "source": [
    "/** Helper Function ported from AoC19 (https://github.com/adhokshaja/AdventOfCode2019/blob/master/MathHelpers.js), slightly refactored\n",
    " * Finds the Greatest Common Divisor of the given array of numbers\n",
    " * @param {[Number]} param0 Input array\n",
    " */\n",
    "function GCD (n1, n2, ...others){\n",
    "    if(!n1 || !n2) {\n",
    "      return n1||n2;\n",
    "    }\n",
    "    let x = Math.abs(n1),\n",
    "        y = Math.abs(n2);\n",
    "    while (y) {\n",
    "        let temp = y;\n",
    "        y = x % y;\n",
    "        x = temp;\n",
    "    } \n",
    "    if(others.length<=0){\n",
    "        return x;\n",
    "    }\n",
    "\n",
    "    return GCD(x,...others);  \n",
    "}\n",
    "\n",
    "\n",
    "/**\n",
    " * Chinese Reminder Theorem - Solve system of Congruent Equations using  \n",
    " * @param {[{mod:Number,rem:number}]} eqns Representation of the system of congrugencies\n",
    " */\n",
    "function solveSimultaneousCongrugencies(eqns){\n",
    "\n",
    "  const eqns_sorted = eqns.sort((a,b)=> b.mod - a.mod);\n",
    "\n",
    "  // Solution using Sieving (https://en.wikipedia.org/wiki/Chinese_remainder_theorem#Search_by_sieving)\n",
    "\n",
    "  let acc = eqns_sorted[0].rem;\n",
    "  let currMultiple = 1;\n",
    "\n",
    "  for (let i = 1; i < eqns_sorted.length; i++) {\n",
    "    const { mod: prevMod } = eqns_sorted[i - 1];\n",
    "    currMultiple = prevMod * currMultiple / GCD(prevMod, currMultiple);\n",
    "\n",
    "    const { mod, rem } = eqns_sorted[i];\n",
    "   \n",
    "    while (acc % mod != rem) {\n",
    "      acc += currMultiple;\n",
    "    }\n",
    "\n",
    "  }\n",
    "\n",
    "  return acc;\n",
    "}"
   ]
  },
  {
   "source": [
    "The `solveSimultaneousCongrugencies` function expects an array of the form `[ { mod, rem } ]`, where mod is the modulii and rem is the reminders. In this case `mod = shuttle`, `rem = lag_time`"
   ],
   "cell_type": "markdown",
   "metadata": {}
  },
  {
   "cell_type": "code",
   "execution_count": 7,
   "metadata": {},
   "outputs": [
    {
     "output_type": "execute_result",
     "data": {
      "text/plain": [
       "[\n",
       "  { mod: 19, rem: 0 },\n",
       "  { mod: 41, rem: 32 },\n",
       "  { mod: 37, rem: 24 },\n",
       "  { mod: 787, rem: 768 },\n",
       "  { mod: 13, rem: 7 },\n",
       "  { mod: 23, rem: 4 },\n",
       "  { mod: 29, rem: 10 },\n",
       "  { mod: 571, rem: 521 },\n",
       "  { mod: 17, rem: 1 }\n",
       "]"
      ]
     },
     "metadata": {},
     "execution_count": 7
    }
   ],
   "source": [
    "var congrugencyRepresentation = subsequentShuttles.map( a=> {return {mod:a.shuttle, rem:a.lag_time}});\n",
    "congrugencyRepresentation"
   ]
  },
  {
   "cell_type": "code",
   "execution_count": 8,
   "metadata": {},
   "outputs": [
    {
     "output_type": "execute_result",
     "data": {
      "text/plain": [
       "500033211739354"
      ]
     },
     "metadata": {},
     "execution_count": 8
    }
   ],
   "source": [
    "solveSimultaneousCongrugencies(congrugencyRepresentation)"
   ]
  }
 ]
}