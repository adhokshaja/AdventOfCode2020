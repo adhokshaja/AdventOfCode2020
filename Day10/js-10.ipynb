{
 "metadata": {
  "language_info": {
   "codemirror_mode": {
    "name": "ipython",
    "version": 3
   },
   "file_extension": ".py",
   "mimetype": "text/x-python",
   "name": "python",
   "nbconvert_exporter": "python",
   "pygments_lexer": "ipython3",
   "version": "3.7.3-final"
  },
  "orig_nbformat": 2,
  "kernelspec": {
   "name": "javascript",
   "display_name": "Javascript (Node.js)",
   "language": "javascript"
  }
 },
 "nbformat": 4,
 "nbformat_minor": 2,
 "cells": [
  {
   "source": [
    "# Day 10\n",
    "## Adapter Array\n",
    "\n",
    "Given input file has a list of output joltages for adapters. Adapters can take an input 1, 2, or 3 joltages lower than their output and still produce the same output joltage.\n",
    "Device Joltage is 3 higher than the maximum joltage of the adapter list.\n",
    "Form an arrary to convert effectively zero jolts to device joltage."
   ],
   "cell_type": "markdown",
   "metadata": {}
  },
  {
   "cell_type": "code",
   "execution_count": 5,
   "metadata": {},
   "outputs": [
    {
     "output_type": "error",
     "ename": "SyntaxError",
     "evalue": "Identifier 'fs' has already been declared",
     "traceback": [
      "evalmachine.<anonymous>:1",
      "const fs = require(\"fs\");",
      "^",
      "",
      "SyntaxError: Identifier 'fs' has already been declared",
      "    at evalmachine.<anonymous>:1:1",
      "    at Script.runInThisContext (vm.js:116:20)",
      "    at Object.runInThisContext (vm.js:306:38)",
      "    at run ([eval]:1054:15)",
      "    at onRunRequest ([eval]:888:18)",
      "    at onMessage ([eval]:848:13)",
      "    at process.emit (events.js:210:5)",
      "    at emit (internal/child_process.js:876:12)",
      "    at processTicksAndRejections (internal/process/task_queues.js:81:21)"
     ]
    }
   ],
   "source": [
    "const fs = require(\"fs\");\n",
    "\n",
    "const joltages = fs\n",
    "  .readFileSync(\"./input.txt\", (_, a) => a)\n",
    "  .toString()\n",
    "  .split(\"\\r\\n\")\n",
    "  .map((a) => parseInt(a));"
   ]
  },
  {
   "source": [
    "compute device joltage and add it to the chain"
   ],
   "cell_type": "markdown",
   "metadata": {}
  },
  {
   "cell_type": "code",
   "execution_count": 2,
   "metadata": {},
   "outputs": [
    {
     "output_type": "execute_result",
     "data": {
      "text/plain": [
       "101"
      ]
     },
     "metadata": {},
     "execution_count": 2
    }
   ],
   "source": [
    "const deviceJoltage = Math.max(...joltages) + 3;\n",
    "joltages.push(deviceJoltage);"
   ]
  },
  {
   "source": [
    "## Part 1\n",
    "Find Joltage distribution (i.e. jumps in Joltage between adapters (1,2,3)). Return the Distribution of 1 __Multiplied__ by distribution of 3"
   ],
   "cell_type": "markdown",
   "metadata": {}
  },
  {
   "source": [
    "### Approach & Solution\n",
    "- Easiest approach is to sort the joltages in ascending order\n",
    "- Iterate through the sorted list and log the difference between current and previous joltages.\n",
    "- The logging can be done in an array with indices being the the joltageDifference "
   ],
   "cell_type": "markdown",
   "metadata": {}
  },
  {
   "cell_type": "code",
   "execution_count": 3,
   "metadata": {},
   "outputs": [
    {
     "output_type": "execute_result",
     "data": {
      "text/plain": [
       "2170"
      ]
     },
     "metadata": {},
     "execution_count": 3
    }
   ],
   "source": [
    "const sortedJoltages = joltages.sort((a,b)=> a-b);\n",
    "let prevJoltage = 0;  // ease of use for a for-of loop... don't judge me\n",
    "\n",
    "const joltageDistribution = [0,0,0,0]; // index = joltageDifference\n",
    "\n",
    "for(let joltage of sortedJoltages){\n",
    "    const difference = joltage - prevJoltage;\n",
    "    joltageDistribution[difference] += 1;\n",
    "    prevJoltage = joltage;\n",
    "};\n",
    "\n",
    "joltageDistribution[1] * joltageDistribution[3];"
   ]
  },
  {
   "source": [
    "## Part 2\n",
    "Find the total number of distinct ways adapters can be arranged to get the DeviceJoltage from effectively zero"
   ],
   "cell_type": "markdown",
   "metadata": {}
  },
  {
   "source": [
    "### Approach\n",
    "\n",
    "This problem is equivalant to the [Climbing Stairs Problem](https://leetcode.com/problems/climbing-stairs/). What are the number of ways you can reach a certain step, if you can climb one or two steps at a time. \n",
    "This problem can be solved using reccursion with Time complexity of $O(2^n)$ or using dynamic programming techniques with a Time Complexity of $O(n)$, The latter of the two is used here. For a reccursion based approach reference the C# solution.\n",
    "\n",
    "There are a couple of caveats that need to be considered when comparing this problem with the Climbing Stairs Problem(CSP). \n",
    "    1. This problem has a jump of 1, 2, or 3 \"steps\"(Joltages) as opposed to 2 steps in the CSP.\n",
    "    2. In this problem certain steps(Joltages) cannot be reached due to in availability of adapters for the required Joltage. This means the ways to reach that certain steps(Joltages) will have $0$ ways to reach them. No such special cases are in the original CSR\n",
    "\n",
    "_______________________________\n",
    "\n",
    "For the CSR if $F(n)$ is the number of ways the reach the $n^{th}$ step, it can be shown that $F(n) = F(n-1) + F(n-2)$. This equation might look familiar, since it is the equation for the $n^{th}$ [Fibinocci number](https://en.wikipedia.org/wiki/Fibonacci_number).\n",
    "The edge cases for CSR are $F(1)$ and $F(2)$ which are $1$, $2$ respectively.\n",
    "\n",
    "Full representation of CSR is: \n",
    "\n",
    "$\\begin{equation} F(n) = F(n-1) + F(n-2) \\\\\\ F(1) = 1 \\\\\\ F(2) = 2 \\end{equation}$\n",
    "\n",
    "\n",
    "-----------------------\n",
    "For our problem we have jumps of 1, 2 or 3. It can be shown that if this joltage can be reached, the number of ways to do that is $F(n) = F(n-1) + F(n-2) + F(n-3)$\n",
    "When that joltage cannot be reached (not in input list) $F(n) = 0$. The edge cases are for $F(1)$, $F(2)$, $F(3)$ which when can be reached have the values $1$, $1 + F(1)$, $1 + F(2) +F(1)$ respectively.\n",
    "\n",
    "Full representation of our problem is: \n",
    "\n",
    "$\\begin{equation}\n",
    "    F(n) =\n",
    "    \\begin{cases}\n",
    "      F(n-1) + F(n-2) + F(n-3), & \\text{if}\\ reachable \\\\\n",
    "      0, & \\text{otherwise}\n",
    "    \\end{cases}\n",
    "  \\end{equation}$\n",
    "\n",
    "$\\begin{equation}\n",
    "    F(1) =\n",
    "    \\begin{cases}\n",
    "      1, & \\text{if}\\ reachable \\\\\n",
    "      0, & \\text{otherwise}\n",
    "    \\end{cases}\n",
    "  \\end{equation}$\n",
    "\n",
    "  $\\begin{equation}\n",
    "    F(2) =\n",
    "    \\begin{cases}\n",
    "      1 + F(1), & \\text{if}\\ reachable \\\\\n",
    "      0, & \\text{otherwise}\n",
    "    \\end{cases}\n",
    "  \\end{equation}$\n",
    "\n",
    "  $\\begin{equation}\n",
    "    F(3) =\n",
    "    \\begin{cases}\n",
    "      1 + F(2) + F(1), & \\text{if}\\ reachable \\\\\n",
    "      0, & \\text{otherwise}\n",
    "    \\end{cases}\n",
    "  \\end{equation}$"
   ],
   "cell_type": "markdown",
   "metadata": {}
  },
  {
   "source": [
    "### Solution \n",
    "For the solution, we will use an array to represent the number of ways to get to the index. for example `arr[15]` would give the number of ways to reach the joltage 15.\n",
    "We also need fast lookups to see if a joltage is reachable (available in the input list)."
   ],
   "cell_type": "markdown",
   "metadata": {}
  },
  {
   "cell_type": "code",
   "execution_count": null,
   "metadata": {},
   "outputs": [],
   "source": [
    "const joltageSet = new Set(joltages);\n",
    "const stepsToJoltage =[]; // f(n) array"
   ]
  },
  {
   "cell_type": "code",
   "execution_count": 4,
   "metadata": {},
   "outputs": [
    {
     "output_type": "execute_result",
     "data": {
      "text/plain": [
       "24803586664192"
      ]
     },
     "metadata": {},
     "execution_count": 4
    }
   ],
   "source": [
    "// stepsToJoltage[0] = 0; ignoring zero index for sanity\n",
    "stepsToJoltage[1] = joltageSet.has(1) ? 1 : 0;\n",
    "stepsToJoltage[2] = joltageSet.has(2) ? stepsToJoltage[1] + 1 : 0;\n",
    "stepsToJoltage[3] = joltageSet.has(3) ? stepsToJoltage[1] + stepsToJoltage[2] + 1 : 0;\n",
    "\n",
    "for(let j = 4; j<=deviceJoltage; j++){\n",
    "    stepsToJoltage[j] = joltageSet.has(j) ? stepsToJoltage[j-1] + stepsToJoltage[j-2] + stepsToJoltage[j-3] : 0;\n",
    "}\n",
    "\n",
    "stepsToJoltage[deviceJoltage];"
   ]
  }
 ]
}