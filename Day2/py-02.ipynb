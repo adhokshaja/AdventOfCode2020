{
 "cells": [
  {
   "cell_type": "code",
   "execution_count": 1,
   "metadata": {},
   "outputs": [],
   "source": [
    "with open('input.txt') as infile:\n",
    "    inputLines = [line.strip() for line in infile.readlines()]"
   ]
  },
  {
   "cell_type": "code",
   "execution_count": 2,
   "metadata": {},
   "outputs": [],
   "source": [
    "def getPasswordPolicy(line):\n",
    "    policy, password = line.split(\":\")\n",
    "    minMax, letter = policy.split(\" \")\n",
    "    min,max = minMax.split(\"-\")\n",
    "    return (password.strip(),letter,int(min),int(max))"
   ]
  },
  {
   "cell_type": "code",
   "execution_count": 3,
   "metadata": {},
   "outputs": [],
   "source": [
    "passwordsAndPolicies = [getPasswordPolicy(inputLine) for inputLine in inputLines]"
   ]
  },
  {
   "cell_type": "markdown",
   "metadata": {},
   "source": [
    "# Part 1"
   ]
  },
  {
   "cell_type": "code",
   "execution_count": 4,
   "metadata": {},
   "outputs": [
    {
     "data": {
      "text/plain": [
       "622"
      ]
     },
     "execution_count": 4,
     "metadata": {},
     "output_type": "execute_result"
    }
   ],
   "source": [
    "count = 0\n",
    "for p in passwordsAndPolicies:\n",
    "    pwd,letter,min,max  = p\n",
    "    if pwd.count(letter) >= min and pwd.count(letter) <= max:\n",
    "        count +=1\n",
    "count"
   ]
  },
  {
   "cell_type": "markdown",
   "metadata": {},
   "source": [
    "# Part 2"
   ]
  },
  {
   "cell_type": "code",
   "execution_count": 5,
   "metadata": {},
   "outputs": [
    {
     "data": {
      "text/plain": [
       "263"
      ]
     },
     "execution_count": 5,
     "metadata": {},
     "output_type": "execute_result"
    }
   ],
   "source": [
    "count = 0\n",
    "for p in passwordsAndPolicies:\n",
    "    pwd,letter,min,max  = p\n",
    "    if len(pwd) < max:\n",
    "        continue\n",
    "    if (pwd[min-1] == letter or pwd[max-1] == letter) and (pwd[min-1] != pwd[max-1]):\n",
    "        count +=1\n",
    "count"
   ]
  }
 ],
 "metadata": {
  "kernelspec": {
   "display_name": "Python 3.6.6 64-bit",
   "language": "python",
   "name": "python36664bit9645812e406f4dd4a57b9b4e78b0c677"
  },
  "language_info": {
   "codemirror_mode": {
    "name": "ipython",
    "version": 3
   },
   "file_extension": ".py",
   "mimetype": "text/x-python",
   "name": "python",
   "nbconvert_exporter": "python",
   "pygments_lexer": "ipython3",
   "version": "3.6.6"
  }
 },
 "nbformat": 4,
 "nbformat_minor": 4
}
