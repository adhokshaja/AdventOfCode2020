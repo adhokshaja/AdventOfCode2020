{
 "cells": [
  {
   "cell_type": "code",
   "execution_count": 1,
   "metadata": {},
   "outputs": [],
   "source": [
    "const fs = require('fs');"
   ]
  },
  {
   "cell_type": "code",
   "execution_count": 2,
   "metadata": {},
   "outputs": [],
   "source": [
    "const input = fs\n",
    "  .readFileSync(\"./input.txt\", (_, a) => a)\n",
    "  .toString()\n",
    "  .split(\"\\r\\n\");"
   ]
  },
  {
   "cell_type": "markdown",
   "metadata": {},
   "source": [
    "Each line gives the password policy followed by the password."
   ]
  },
  {
   "cell_type": "code",
   "execution_count": 3,
   "metadata": {},
   "outputs": [],
   "source": [
    "const passwordLines = input.map( line => {\n",
    "    const parts = line.split(\" \").map((a) => a.trim());\n",
    "    const [min, max, ..._] = parts[0].split(\"-\");\n",
    "    return {\n",
    "      min,\n",
    "      max,\n",
    "      letter: parts[1][0],\n",
    "      password:parts[2],\n",
    "    };\n",
    "  });"
   ]
  },
  {
   "cell_type": "markdown",
   "metadata": {},
   "source": [
    "# Part 1\n",
    "The password policy is number of letters should be between the min max values.\n",
    "\n",
    "How many passwords are valid?"
   ]
  },
  {
   "cell_type": "code",
   "execution_count": 4,
   "metadata": {},
   "outputs": [
    {
     "data": {
      "text/plain": [
       "622"
      ]
     },
     "execution_count": 4,
     "metadata": {},
     "output_type": "execute_result"
    }
   ],
   "source": [
    "passwordLines.filter(({min,max,letter,password}) => {\n",
    "  const validLetters = password.split(\"\").filter((x) => x === letter);\n",
    "  return validLetters.length <= parseInt(max) && validLetters.length >= parseInt(min);\n",
    "}).length;"
   ]
  },
  {
   "cell_type": "markdown",
   "metadata": {},
   "source": [
    "# Part 2\n",
    "Password Policy is the password must contain letter at the min and max index positions (index starts at 1)"
   ]
  },
  {
   "cell_type": "code",
   "execution_count": 5,
   "metadata": {},
   "outputs": [
    {
     "data": {
      "text/plain": [
       "263"
      ]
     },
     "execution_count": 5,
     "metadata": {},
     "output_type": "execute_result"
    }
   ],
   "source": [
    "passwordLines.filter(({ min, max, letter, password }) => {\n",
    "  const passLetters = password.split(\"\");\n",
    "  const minLetter = passLetters[parseInt(min) - 1];\n",
    "  const maxLetter = passLetters[parseInt(max) - 1];\n",
    "  return (\n",
    "    minLetter && maxLetter && (minLetter == letter ^ maxLetter == letter)\n",
    "  );\n",
    "}).length;"
   ]
  }
 ],
 "metadata": {
  "kernelspec": {
   "display_name": "Javascript (Node.js)",
   "language": "javascript",
   "name": "javascript"
  },
  "language_info": {
   "codemirror_mode": {
    "name": "ipython",
    "version": 3
   },
   "file_extension": ".py",
   "mimetype": "text/x-python",
   "name": "python",
   "nbconvert_exporter": "python",
   "pygments_lexer": "ipython3",
   "version": "3.7.3-final"
  }
 },
 "nbformat": 4,
 "nbformat_minor": 4
}
